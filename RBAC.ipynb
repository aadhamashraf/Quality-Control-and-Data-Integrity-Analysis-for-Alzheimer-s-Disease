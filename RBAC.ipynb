{
  "nbformat": 4,
  "nbformat_minor": 0,
  "metadata": {
    "colab": {
      "provenance": []
    },
    "kernelspec": {
      "name": "python3",
      "display_name": "Python 3"
    },
    "language_info": {
      "name": "python"
    }
  },
  "cells": [
    {
      "cell_type": "code",
      "source": [
        "import pandas as pd\n",
        "import time"
      ],
      "metadata": {
        "id": "zuK-xlQngU_j"
      },
      "execution_count": 71,
      "outputs": []
    },
    {
      "cell_type": "code",
      "source": [
        "df=pd.read_csv(\"/content/After Modifications 202200953 (1).csv\")"
      ],
      "metadata": {
        "id": "1J1fSxibjrf6"
      },
      "execution_count": null,
      "outputs": []
    },
    {
      "cell_type": "code",
      "source": [
        "class RBAC:\n",
        "    def __init__(self):\n",
        "        self.roles = {}\n",
        "        self.user_credentials = {}\n",
        "        self.users = []\n",
        "\n",
        "    def add_role(self, role_name, permissions):\n",
        "        self.roles[role_name] = permissions\n",
        "\n",
        "    def assign_user_role(self, user, role_name):\n",
        "        user.role = role_name\n",
        "\n",
        "    def check_permission(self, user, permission):\n",
        "        return permission in self.roles[user.role] if hasattr(user, 'role') and user.role in self.roles else False\n",
        "\n",
        "    def set_user_credentials(self, username, password):\n",
        "        self.user_credentials[username] = password\n",
        "\n",
        "    def authenticate_user(self, username, password):\n",
        "        return username in self.user_credentials and self.user_credentials[username] == password\n",
        "\n",
        "    def get_permissions(self, user):\n",
        "        return self.roles[user.role]  if hasattr(user, 'role') and user.role in self.roles else []\n",
        "\n",
        "    def get_user_by_username(self, username):\n",
        "        for user in self.users:\n",
        "            if user.username == username: return user\n",
        "        return None\n",
        "\n",
        "    def add_user(self, user):\n",
        "        self.users.append(user)\n",
        "\n",
        "class Dataset:\n",
        "    def __init__(self, data):\n",
        "        self.data = data\n",
        "\n",
        "class User:\n",
        "    def __init__(self):\n",
        "        self.role = None\n",
        "        self.username = None\n",
        "        self.password= None"
      ],
      "metadata": {
        "id": "hyCAx3eNoARr"
      },
      "execution_count": 76,
      "outputs": []
    },
    {
      "cell_type": "code",
      "source": [
        "def loading_animation():\n",
        "    print(\"Loading \", end=\"\")\n",
        "    for _ in range(10):\n",
        "        print(\".\", end=\"\", flush=True)\n",
        "        time.sleep(0.5)\n",
        "    print(\"\\n\")\n",
        "\n",
        "\n",
        "def main():\n",
        "    rbac = RBAC()\n",
        "\n",
        "    rbac.add_role('Data Analyst', ['LocationAbbr', 'YearStart', 'Data_Value', 'Class', 'StratificationID1', 'StratificationID2'])\n",
        "    rbac.add_role('Researcher', ['LocationAbbr', 'Data_Value', 'Low_Confidence_Limit', 'Data_Value_Footnote', 'Question'])\n",
        "    rbac.add_role('Administrator',['RowId', 'YearStart', 'YearEnd', 'LocationAbbr', 'LocationDesc',\n",
        "       'Datasource', 'Class', 'Topic', 'Question', 'Data_Value_Unit',\n",
        "       'DataValueTypeID', 'Data_Value_Type', 'Data_Value', 'Data_Value_Alt',\n",
        "       'Data_Value_Footnote_Symbol', 'Data_Value_Footnote',\n",
        "       'Low_Confidence_Limit', 'High_Confidence_Limit',\n",
        "       'StratificationCategory1', 'Stratification1', 'StratificationCategory2',\n",
        "       'Stratification2', 'Geolocation', 'ClassID', 'TopicID', 'QuestionID',\n",
        "       'LocationID', 'StratificationCategoryID1', 'StratificationID1',\n",
        "       'StratificationCategoryID2', 'StratificationID2', 'Latitude',\n",
        "       'Longitude'])\n",
        "\n",
        "    user1,user2,user3 = User() , User() ,User()\n",
        "\n",
        "    user1.username = 'Adham' ; user1.password='Big Boss'\n",
        "    user2.username = 'Youssef'; user2.password='Medium Boss'\n",
        "    user3.username = 'Hozien' ; user3.password='Small Boss'\n",
        "\n",
        "\n",
        "    rbac.add_user(user1)\n",
        "    rbac.add_user(user2)\n",
        "    rbac.add_user(user3)\n",
        "\n",
        "    rbac.assign_user_role(user3, 'Data Analyst')\n",
        "    rbac.assign_user_role(user2, 'Researcher')\n",
        "    rbac.assign_user_role(user1, 'Administrator')\n",
        "\n",
        "    rbac.set_user_credentials(user3.username,user3.password)\n",
        "    rbac.set_user_credentials(user2.username,user2.password)\n",
        "    rbac.set_user_credentials(user1.username,user1.password )\n",
        "\n",
        "    username = input(\"Enter your username: \") ;  password = input(\"Enter your password: \")\n",
        "\n",
        "    if rbac.authenticate_user(username, password):\n",
        "        print(\"Authentication successful!\")\n",
        "        user = rbac.get_user_by_username(username)\n",
        "\n",
        "        if user is None:\n",
        "            print(\"User Matchy But No Roles Assigned Yet not found.\")\n",
        "            return 1\n",
        "\n",
        "        user_role = user.role\n",
        "        authorized_columns = rbac.get_permissions(user)\n",
        "\n",
        "        print(\"Your role:\", user_role)\n",
        "        print(\"Authorized columns:\", \", \".join(authorized_columns))\n",
        "\n",
        "        print(\"                                                                      \")\n",
        "        print(\"                                                                      \")\n",
        "        print(\"                                                                      \")\n",
        "        print(\"                                                                      \")\n",
        "        print(\"                                                                      \")\n",
        "        print(\"                                                                      \")\n",
        "        loading_animation()\n",
        "        print(\"                                                                      \")\n",
        "        print(\"                                                                      \")\n",
        "        print(\"                                                                      \")\n",
        "        print(\"                                                                      \")\n",
        "        print(\"                                                                      \")\n",
        "        print(\"                                                                      \")\n",
        "\n",
        "        if authorized_columns:\n",
        "            filtered_df = df[authorized_columns]\n",
        "        print(filtered_df.head(11))\n",
        "\n",
        "    else:\n",
        "        print(\" Invalid username or password.\")\n",
        "        return 1"
      ],
      "metadata": {
        "id": "cMuONtcKrNXH"
      },
      "execution_count": 74,
      "outputs": []
    },
    {
      "cell_type": "code",
      "source": [
        "if __name__ == \"__main__\":\n",
        "    main()"
      ],
      "metadata": {
        "colab": {
          "base_uri": "https://localhost:8080/"
        },
        "id": "mPiObvWSsrii",
        "outputId": "8d609b28-02cf-4a39-a6e7-125dd49347cc"
      },
      "execution_count": 75,
      "outputs": [
        {
          "output_type": "stream",
          "name": "stdout",
          "text": [
            "Enter your username: Adham\n",
            "Enter your password: Big Boss\n",
            "Authentication successful!\n",
            "Your role: Administrator\n",
            "Authorized columns: RowId, YearStart, YearEnd, LocationAbbr, LocationDesc, Datasource, Class, Topic, Question, Data_Value_Unit, DataValueTypeID, Data_Value_Type, Data_Value, Data_Value_Alt, Data_Value_Footnote_Symbol, Data_Value_Footnote, Low_Confidence_Limit, High_Confidence_Limit, StratificationCategory1, Stratification1, StratificationCategory2, Stratification2, Geolocation, ClassID, TopicID, QuestionID, LocationID, StratificationCategoryID1, StratificationID1, StratificationCategoryID2, StratificationID2, Latitude, Longitude\n",
            "                                                                      \n",
            "                                                                      \n",
            "                                                                      \n",
            "                                                                      \n",
            "                                                                      \n",
            "                                                                      \n",
            "Loading ..........\n",
            "\n",
            "                                                                      \n",
            "                                                                      \n",
            "                                                                      \n",
            "                                                                      \n",
            "                                                                      \n",
            "                                                                      \n",
            "                                        RowId  YearStart  YearEnd  \\\n",
            "0   BRFSS~2019~2019~9002~Q27~TMC03~AGE~GENDER       2019     2019   \n",
            "1   BRFSS~2021~2021~9002~Q08~TOC01~AGE~GENDER       2021     2021   \n",
            "2     BRFSS~2015~2015~9004~Q43~TOC11~AGE~RACE       2015     2015   \n",
            "3       BRFSS~2017~2017~21~Q27~TMC03~AGE~RACE       2017     2017   \n",
            "4     BRFSS~2021~2021~9003~Q43~TOC11~AGE~RACE       2021     2021   \n",
            "5     BRFSS~2016~2016~9002~Q32~TOC07~AGE~RACE       2016     2016   \n",
            "6       BRFSS~2021~2021~16~Q27~TMC03~AGE~RACE       2021     2021   \n",
            "7    BRFSS~2021~2021~18~Q35~TOC03~AGE~OVERALL       2021     2021   \n",
            "8     BRFSS~2020~2020~9004~Q05~TOC06~AGE~RACE       2020     2020   \n",
            "9       BRFSS~2019~2019~15~Q27~TMC03~AGE~RACE       2019     2019   \n",
            "10   BRFSS~2021~2021~53~Q14~TSC06~AGE~OVERALL       2021     2021   \n",
            "\n",
            "   LocationAbbr LocationDesc Datasource                    Class  \\\n",
            "0           MDW      Midwest      BRFSS            Mental Health   \n",
            "1           MDW      Midwest      BRFSS           Overall Health   \n",
            "2          WEST         West      BRFSS           Overall Health   \n",
            "3            KY     Kentucky      BRFSS            Mental Health   \n",
            "4           SOU        South      BRFSS           Overall Health   \n",
            "5           MDW      Midwest      BRFSS           Overall Health   \n",
            "6            ID        Idaho      BRFSS            Mental Health   \n",
            "7            IN      Indiana      BRFSS           Overall Health   \n",
            "8          WEST         West      BRFSS           Overall Health   \n",
            "9            HI       Hawaii      BRFSS            Mental Health   \n",
            "10           WA   Washington      BRFSS  Screenings and Vaccines   \n",
            "\n",
            "                                              Topic  \\\n",
            "0                  Lifetime diagnosis of depression   \n",
            "1   Physically unhealthy days (mean number of days)   \n",
            "2                      Arthritis among older adults   \n",
            "3                  Lifetime diagnosis of depression   \n",
            "4                      Arthritis among older adults   \n",
            "5           Self-rated health (fair to poor health)   \n",
            "6                  Lifetime diagnosis of depression   \n",
            "7         Recent activity limitations in past month   \n",
            "8                 Fall with injury within last year   \n",
            "9                  Lifetime diagnosis of depression   \n",
            "10              Cholesterol checked in past 5 years   \n",
            "\n",
            "                                             Question Data_Value_Unit  ...  \\\n",
            "0   Percentage of older adults with a lifetime dia...               %  ...   \n",
            "1   Physically unhealthy days (mean number of days...          Number  ...   \n",
            "2   Percentage of older adults ever told they have...               %  ...   \n",
            "3   Percentage of older adults with a lifetime dia...               %  ...   \n",
            "4   Percentage of older adults ever told they have...               %  ...   \n",
            "5   Percentage of older adults who self-reported t...               %  ...   \n",
            "6   Percentage of older adults with a lifetime dia...               %  ...   \n",
            "7   Mean number of days with activity limitations ...          Number  ...   \n",
            "8   Percentage of older adults who have fallen and...               %  ...   \n",
            "9   Percentage of older adults with a lifetime dia...               %  ...   \n",
            "10  Percentage of older adults who had a cholester...               %  ...   \n",
            "\n",
            "   ClassID TopicID  QuestionID  LocationID StratificationCategoryID1  \\\n",
            "0      C05   TMC03         Q27        9002                       AGE   \n",
            "1      C01   TOC01         Q08        9002                       AGE   \n",
            "2      C01   TOC11         Q43        9004                       AGE   \n",
            "3      C05   TMC03         Q27          21                       AGE   \n",
            "4      C01   TOC11         Q43        9003                       AGE   \n",
            "5      C01   TOC07         Q32        9002                       AGE   \n",
            "6      C05   TMC03         Q27          16                       AGE   \n",
            "7      C01   TOC03         Q35          18                       AGE   \n",
            "8      C01   TOC06         Q05        9004                       AGE   \n",
            "9      C05   TMC03         Q27          15                       AGE   \n",
            "10     C03   TSC06         Q14          53                       AGE   \n",
            "\n",
            "   StratificationID1 StratificationCategoryID2 StratificationID2  \\\n",
            "0             65PLUS                    GENDER              MALE   \n",
            "1        AGE_OVERALL                    GENDER              MALE   \n",
            "2               5064                      RACE               WHT   \n",
            "3               5064                      RACE               ASN   \n",
            "4             65PLUS                      RACE               BLK   \n",
            "5             65PLUS                      RACE               WHT   \n",
            "6               5064                      RACE               HIS   \n",
            "7        AGE_OVERALL                   OVERALL           OVERALL   \n",
            "8               5064                      RACE               ASN   \n",
            "9             65PLUS                      RACE               ASN   \n",
            "10       AGE_OVERALL                   OVERALL           OVERALL   \n",
            "\n",
            "                                         Latitude  \\\n",
            "0    POINT(-120.15503132599969 44.56744942400047)   \n",
            "1    POINT(-120.15503132599969 44.56744942400047)   \n",
            "2    POINT(-120.15503132599969 44.56744942400047)   \n",
            "3    POINT(-84.77497104799966 37.645970271000465)   \n",
            "4    POINT(-120.15503132599969 44.56744942400047)   \n",
            "5    POINT(-120.15503132599969 44.56744942400047)   \n",
            "6    POINT(-114.3637300419997 43.682630005000476)   \n",
            "7    POINT(-86.14996019399968 39.766910452000445)   \n",
            "8    POINT(-120.15503132599969 44.56744942400047)   \n",
            "9   POINT(-157.85774940299973 21.304850435000446)   \n",
            "10   POINT(-120.47001078999972 47.52227862900048)   \n",
            "\n",
            "                                        Longitude  \n",
            "0    POINT(-120.15503132599969 44.56744942400047)  \n",
            "1    POINT(-120.15503132599969 44.56744942400047)  \n",
            "2    POINT(-120.15503132599969 44.56744942400047)  \n",
            "3    POINT(-84.77497104799966 37.645970271000465)  \n",
            "4    POINT(-120.15503132599969 44.56744942400047)  \n",
            "5    POINT(-120.15503132599969 44.56744942400047)  \n",
            "6    POINT(-114.3637300419997 43.682630005000476)  \n",
            "7    POINT(-86.14996019399968 39.766910452000445)  \n",
            "8    POINT(-120.15503132599969 44.56744942400047)  \n",
            "9   POINT(-157.85774940299973 21.304850435000446)  \n",
            "10   POINT(-120.47001078999972 47.52227862900048)  \n",
            "\n",
            "[11 rows x 33 columns]\n"
          ]
        }
      ]
    },
    {
      "cell_type": "code",
      "source": [
        "import time\n",
        "\n",
        "def loading_animation():\n",
        "    print(\"Loading \", end=\"\")\n",
        "    for _ in range(10):\n",
        "        print(\".\", end=\"\", flush=True)\n",
        "        time.sleep(0.5)\n",
        "    print(\"\\n\")\n",
        "\n",
        "loading_animation()\n"
      ],
      "metadata": {
        "colab": {
          "base_uri": "https://localhost:8080/"
        },
        "id": "xhDygFjctW3v",
        "outputId": "9323b40b-09b3-45d3-8b56-cee14051625e"
      },
      "execution_count": 70,
      "outputs": [
        {
          "output_type": "stream",
          "name": "stdout",
          "text": [
            "Loading ..........\n",
            "\n"
          ]
        }
      ]
    },
    {
      "cell_type": "code",
      "source": [
        "import sys\n",
        "import time\n",
        "\n",
        "def loading_animation():\n",
        "    chars = \"/—\\\\|\"\n",
        "    for _ in range(20):\n",
        "        sys.stdout.write(\"\\r\" + \"Loading \" + chars[_ % len(chars)])\n",
        "        sys.stdout.flush()\n",
        "        time.sleep(0.1)  # Adjust the delay as needed\n",
        "    print(\"\\n\")\n",
        "\n",
        "# Call the loading animation function\n",
        "loading_animation()\n"
      ],
      "metadata": {
        "colab": {
          "base_uri": "https://localhost:8080/"
        },
        "id": "OiUVWWukwOBb",
        "outputId": "5b3e81cc-b668-45b0-d93d-f5307a4652b1"
      },
      "execution_count": 69,
      "outputs": [
        {
          "output_type": "stream",
          "name": "stdout",
          "text": [
            "Loading |\n",
            "\n"
          ]
        }
      ]
    },
    {
      "cell_type": "code",
      "source": [],
      "metadata": {
        "id": "3D8Dfq7wwT_0"
      },
      "execution_count": null,
      "outputs": []
    }
  ]
}
